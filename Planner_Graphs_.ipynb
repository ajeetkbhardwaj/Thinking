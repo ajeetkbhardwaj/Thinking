{
  "nbformat": 4,
  "nbformat_minor": 0,
  "metadata": {
    "colab": {
      "provenance": [],
      "authorship_tag": "ABX9TyPSX2pji7cPRzQwunwBVOl6",
      "include_colab_link": true
    },
    "kernelspec": {
      "name": "python3",
      "display_name": "Python 3"
    },
    "language_info": {
      "name": "python"
    }
  },
  "cells": [
    {
      "cell_type": "markdown",
      "metadata": {
        "id": "view-in-github",
        "colab_type": "text"
      },
      "source": [
        "<a href=\"https://colab.research.google.com/github/ajeetkbhardwaj/Thinking/blob/master/Planner_Graphs_.ipynb\" target=\"_parent\"><img src=\"https://colab.research.google.com/assets/colab-badge.svg\" alt=\"Open In Colab\"/></a>"
      ]
    },
    {
      "cell_type": "code",
      "execution_count": 1,
      "metadata": {
        "id": "nMZoJ63xcUm3"
      },
      "outputs": [],
      "source": [
        "def is_planner(graph):\n",
        "  # number of vertices\n",
        "  V = len(graph)\n",
        "  # number of edges\n",
        "  E = sum(len(neighbors) for neighbors in graph) // 2\n",
        "\n",
        "  if V < 3:\n",
        "    return True\n",
        "\n",
        "  if E < 3* V - 6:\n",
        "    return True\n",
        "  else:\n",
        "    return False\n",
        "\n"
      ]
    },
    {
      "cell_type": "code",
      "source": [
        "graph = [\n",
        "    [1, 2],\n",
        "    [0, 3],\n",
        "    [0, 3],\n",
        "    [1, 2]\n",
        "]\n",
        "\n",
        "if is_planner(graph):\n",
        "  print(\"Graph G1 is planner\")\n",
        "else:\n",
        "  print(\"Graph G1 is nonplanner\")"
      ],
      "metadata": {
        "colab": {
          "base_uri": "https://localhost:8080/"
        },
        "id": "Ne9M624VdBCU",
        "outputId": "2bb60ed2-df2f-4236-b324-3b30fe7f759a"
      },
      "execution_count": 2,
      "outputs": [
        {
          "output_type": "stream",
          "name": "stdout",
          "text": [
            "Graph G1 is planner\n"
          ]
        }
      ]
    },
    {
      "cell_type": "code",
      "source": [
        "K5_graph = [\n",
        "    [1, 2, 3, 4],\n",
        "    [0, 2, 3, 4],\n",
        "    [0, 1, 3, 4],\n",
        "    [0, 1, 2, 4],\n",
        "    [0, 1, 2, 3]\n",
        "]\n",
        "\n",
        "# check the graph is planner or not based on the eular approximation formula\n",
        "def Disp_Planner():\n",
        "  if is_planner(K5_graph):\n",
        "      print(\"Graph G1 is planner\")\n",
        "  else:\n",
        "      print(\"Graph G1 is nonplanner\")\n",
        "  return\n",
        "\n",
        "Disp_Planner()"
      ],
      "metadata": {
        "colab": {
          "base_uri": "https://localhost:8080/"
        },
        "id": "65hJs8Oidelu",
        "outputId": "78b84ee0-8003-4578-9337-a8b734f72bc0"
      },
      "execution_count": 3,
      "outputs": [
        {
          "output_type": "stream",
          "name": "stdout",
          "text": [
            "Graph G1 is nonplanner\n"
          ]
        }
      ]
    },
    {
      "cell_type": "code",
      "source": [],
      "metadata": {
        "id": "TiptYyC7eaVV"
      },
      "execution_count": null,
      "outputs": []
    }
  ]
}